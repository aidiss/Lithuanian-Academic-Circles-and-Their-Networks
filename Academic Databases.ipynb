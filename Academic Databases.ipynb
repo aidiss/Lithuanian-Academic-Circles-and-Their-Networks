{
 "metadata": {
  "name": "",
  "signature": "sha256:c18aab95d2cb01b575db016ba4104a85e2d3f2b308acfdafc8191ec305172d93"
 },
 "nbformat": 3,
 "nbformat_minor": 0,
 "worksheets": [
  {
   "cells": [
    {
     "cell_type": "markdown",
     "metadata": {},
     "source": [
      "http://aleph.library.lt/ This database will be used to look for information about publications of researchers."
     ]
    },
    {
     "cell_type": "markdown",
     "metadata": {},
     "source": [
      "http://www.labt.lt/Projektai/PDB/#sthash.Ym2TF805.dpuf"
     ]
    }
   ],
   "metadata": {}
  }
 ]
}