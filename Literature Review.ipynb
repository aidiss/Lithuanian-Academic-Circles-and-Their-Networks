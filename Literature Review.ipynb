{
 "metadata": {
  "name": "",
  "signature": "sha256:56f68e4a0c708504172e88209889c79d9d2b17e8564d750ec68bb71be63d5496"
 },
 "nbformat": 3,
 "nbformat_minor": 0,
 "worksheets": [
  {
   "cells": [
    {
     "cell_type": "markdown",
     "metadata": {},
     "source": [
      "This notebook is dedicated to test the usability of Python and iPython Notebook for doing literature review. We will see if it is ok to surf the web, save abstracts and etc."
     ]
    },
    {
     "cell_type": "code",
     "collapsed": false,
     "input": [],
     "language": "python",
     "metadata": {},
     "outputs": [],
     "prompt_number": 20
    },
    {
     "cell_type": "code",
     "collapsed": false,
     "input": [
      "mlist = []\n",
      "def ade(mydict, savelist=mlist): #add entry\n",
      "    #init_dict() #creates empty dict with all entries\n",
      "    if mydict not in savelist:\n",
      "        savelist.append(mydict)\n",
      "entry = {'TY':'JOUR',    \n",
      "'TI':u'Bibliometrija',\n",
      "'PY':u'1999',\n",
      "'LA':u'LTL'}  \n",
      "ade(entry)\n",
      "\n",
      "ade({'TI':'Lietuvos mokslin\u0117s mokyklos','PY':'2002'})\n",
      "[x['TI'] for x in mlist]"
     ],
     "language": "python",
     "metadata": {},
     "outputs": [
      {
       "metadata": {},
       "output_type": "pyout",
       "prompt_number": 1,
       "text": [
        "[u'Bibliometrija', 'Lietuvos mokslin\\xc4\\x97s mokyklos']"
       ]
      }
     ],
     "prompt_number": 1
    },
    {
     "cell_type": "code",
     "collapsed": false,
     "input": [
      "{'TY':'JOUR',\n",
      "'TI':\"Science Research and the History of Science\", \n",
      "'JO':'EVOLUTION OF SCIENCE AND TECHNOLOGY / MOKSLO IR TECHNIKOS RAIDA, VOL 1, NO 1',\n",
      "'PY':'2009', \n",
      "'UR':'http://www.est.vgtu.lt/index.php/est/article/view/16'}"
     ],
     "language": "python",
     "metadata": {},
     "outputs": [
      {
       "metadata": {},
       "output_type": "pyout",
       "prompt_number": 2,
       "text": [
        "{'JO': 'EVOLUTION OF SCIENCE AND TECHNOLOGY / MOKSLO IR TECHNIKOS RAIDA, VOL 1, NO 1',\n",
        " 'PY': '2009',\n",
        " 'TI': 'Science Research and the History of Science',\n",
        " 'TY': 'JOUR',\n",
        " 'UR': 'http://www.est.vgtu.lt/index.php/est/article/view/16'}"
       ]
      }
     ],
     "prompt_number": 2
    },
    {
     "cell_type": "code",
     "collapsed": false,
     "input": [
      "{'N1':'Apie kitas klasifikacija',\n",
      "'UR':'http://etalpykla.lituanistikadb.lt/fedora/get/LT-LDB-0001:J.04~2007~1367158808828/DS.002.0.01.ARTIC'}"
     ],
     "language": "python",
     "metadata": {},
     "outputs": [
      {
       "metadata": {},
       "output_type": "pyout",
       "prompt_number": 3,
       "text": [
        "{'N1': 'Apie kitas klasifikacija',\n",
        " 'UR': 'http://etalpykla.lituanistikadb.lt/fedora/get/LT-LDB-0001:J.04~2007~1367158808828/DS.002.0.01.ARTIC'}"
       ]
      }
     ],
     "prompt_number": 3
    },
    {
     "cell_type": "code",
     "collapsed": false,
     "input": [
      "{'N1':'',\n",
      "'UR':'http://etalpykla.lituanistikadb.lt/fedora/get/LT-LDB-0001:J.04~2011~1367176674498/DS.002.0.01.ARTIC',\n",
      "'AU':'Gedutis Aldis',\n",
      "'TY':'Lietuvos filosofini\u0173 disciplin\u0173 ap\u017evalgos ir j\u0173 naratyvin\u0117s, strategijos.',\n",
      "'SN':'', \n",
      "'JO':'Problemos 2011 80',\n",
      "'VL':'80',\n",
      "'PY':'ISSN 1392\u20131274'}\n"
     ],
     "language": "python",
     "metadata": {},
     "outputs": [
      {
       "metadata": {},
       "output_type": "pyout",
       "prompt_number": 4,
       "text": [
        "{'AU': 'Gedutis Aldis',\n",
        " 'JO': 'Problemos 2011 80',\n",
        " 'N1': '',\n",
        " 'PY': 'ISSN 1392\\xe2\\x80\\x931274',\n",
        " 'SN': '',\n",
        " 'TY': 'Lietuvos filosofini\\xc5\\xb3 disciplin\\xc5\\xb3 ap\\xc5\\xbevalgos ir j\\xc5\\xb3 naratyvin\\xc4\\x97s, strategijos.',\n",
        " 'UR': 'http://etalpykla.lituanistikadb.lt/fedora/get/LT-LDB-0001:J.04~2011~1367176674498/DS.002.0.01.ARTIC',\n",
        " 'VL': '80'}"
       ]
      }
     ],
     "prompt_number": 4
    },
    {
     "cell_type": "code",
     "collapsed": false,
     "input": [
      "{'N1': 'http://istorija.vdu.lt/lnik/juzefovicius.htm',\n",
      "'UR': '',\n",
      "'AU': 'Juzefovi\u010dius, Romualdas',\n",
      "'TY': 'BOOK',\n",
      "'TI': 'Lietuvos mokslini\u0173 draugij\u0173 klasifikacija ir j\u0173 mokslo \u017eini\u0173 sklaidos formos 1918-1940 m. \u017dinija Lietuvoje: neformali mokslo \u017eini\u0173 sklaida XX am\u017eiuje.',\n",
      "'SN': '', \n",
      "'PB': 'Kauno technologijos universitetas',\n",
      "'PY': 'ISBN 9986-13-801-9',\n",
      "'SP': '39',\n",
      "'EP': '43'}"
     ],
     "language": "python",
     "metadata": {},
     "outputs": [
      {
       "metadata": {},
       "output_type": "pyout",
       "prompt_number": 44,
       "text": [
        "{'AU': 'Juzefovi\\xc4\\x8dius, Romualdas',\n",
        " 'EP': '43',\n",
        " 'N1': 'http://istorija.vdu.lt/lnik/juzefovicius.htm',\n",
        " 'PB': 'Kauno technologijos universitetas',\n",
        " 'PY': 'ISBN 9986-13-801-9',\n",
        " 'SN': '',\n",
        " 'SP': '39',\n",
        " 'TI': 'Lietuvos mokslini\\xc5\\xb3 draugij\\xc5\\xb3 klasifikacija ir j\\xc5\\xb3 mokslo \\xc5\\xbeini\\xc5\\xb3 sklaidos formos 1918-1940 m. \\xc5\\xbdinija Lietuvoje: neformali mokslo \\xc5\\xbeini\\xc5\\xb3 sklaida XX am\\xc5\\xbeiuje.',\n",
        " 'TY': 'BOOK',\n",
        " 'UR': ''}"
       ]
      }
     ],
     "prompt_number": 44
    },
    {
     "cell_type": "code",
     "collapsed": true,
     "input": [
      "def idek(mlist=mlist):\n",
      "    tempdict = {}\n",
      "    eilute = raw_input('')\n",
      "    eilute2 = raw_input('')\n",
      "    tempdict[eilute] = eilute2\n",
      "    if eilute == '':\n",
      "        mlist.append(tempdict )\n",
      "idek()"
     ],
     "language": "python",
     "metadata": {},
     "outputs": [
      {
       "name": "stdout",
       "output_type": "stream",
       "stream": "stdout",
       "text": [
        "SR\n"
       ]
      },
      {
       "name": "stdout",
       "output_type": "stream",
       "stream": "stdout",
       "text": [
        "Dalala\n"
       ]
      }
     ],
     "prompt_number": 50
    },
    {
     "cell_type": "code",
     "collapsed": false,
     "input": [
      "mlist"
     ],
     "language": "python",
     "metadata": {},
     "outputs": [
      {
       "ename": "NameError",
       "evalue": "name 'mlist' is not defined",
       "output_type": "pyerr",
       "traceback": [
        "\u001b[1;31m---------------------------------------------------------------------------\u001b[0m\n\u001b[1;31mNameError\u001b[0m                                 Traceback (most recent call last)",
        "\u001b[1;32m<ipython-input-51-a080c5ae3412>\u001b[0m in \u001b[0;36m<module>\u001b[1;34m()\u001b[0m\n\u001b[1;32m----> 1\u001b[1;33m \u001b[0mmlist\u001b[0m\u001b[1;33m\u001b[0m\u001b[0m\n\u001b[0m",
        "\u001b[1;31mNameError\u001b[0m: name 'mlist' is not defined"
       ]
      }
     ],
     "prompt_number": 51
    },
    {
     "cell_type": "markdown",
     "metadata": {},
     "source": [
      "Juzefovi\u010dius, Romualdas. Lietuvos mokslini\u0173 draugij\u0173 klasifikacija ir j\u0173 mokslo \u017eini\u0173 sklaidos formos 1918-1940 m. \u017dinija Lietuvoje: neformali mokslo \u017eini\u0173 sklaida XX am\u017eiuje. Kauno technologijos universitetas, 2000, p. 39-43, ISBN 9986-13-801-9.\n",
      "\n",
      "http://istorija.vdu.lt/lnik/juzefovicius.htm"
     ]
    },
    {
     "cell_type": "markdown",
     "metadata": {},
     "source": [
      "WORKSHOP"
     ]
    },
    {
     "cell_type": "code",
     "collapsed": false,
     "input": [
      "#%load -s draw_history2 mydrawsCopy"
     ],
     "language": "python",
     "metadata": {},
     "outputs": [],
     "prompt_number": 42
    },
    {
     "cell_type": "code",
     "collapsed": false,
     "input": [
      "#%save mydrawsCopy draw_history2"
     ],
     "language": "python",
     "metadata": {},
     "outputs": [],
     "prompt_number": 43
    }
   ],
   "metadata": {}
  }
 ]
}