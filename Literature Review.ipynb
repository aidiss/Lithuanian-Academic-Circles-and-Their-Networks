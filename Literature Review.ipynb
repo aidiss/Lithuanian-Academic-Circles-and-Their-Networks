{
 "metadata": {
  "name": "",
  "signature": "sha256:8cb061a3b44a0c5a4636e96454c2e0050b76a3800697c9360acc67e80c874a87"
 },
 "nbformat": 3,
 "nbformat_minor": 0,
 "worksheets": [
  {
   "cells": [
    {
     "cell_type": "markdown",
     "metadata": {},
     "source": [
      "\u201eBibliometrija\u201c (1999) "
     ]
    },
    {
     "cell_type": "markdown",
     "metadata": {},
     "source": [
      "\u201eLietuvos mokslin\u0117s mokyklos\u201c (2002)"
     ]
    },
    {
     "cell_type": "markdown",
     "metadata": {},
     "source": [
      "\"Science Research and the History of Science\" EVOLUTION OF SCIENCE AND TECHNOLOGY / MOKSLO IR TECHNIKOS RAIDA, VOL 1, NO 1 (2009) (http://www.est.vgtu.lt/index.php/est/article/view/16)"
     ]
    },
    {
     "cell_type": "markdown",
     "metadata": {},
     "source": [
      "Apie kitas klasifikacija(http://etalpykla.lituanistikadb.lt/fedora/get/LT-LDB-0001:J.04~2007~1367158808828/DS.002.0.01.ARTIC)"
     ]
    },
    {
     "cell_type": "markdown",
     "metadata": {},
     "source": [
      "Gedutis A. Lietuvos filosofini\u0173 disciplin\u0173 ap\u017evalgos ir j\u0173 naratyvin\u0117s strategijos. ISSN 1392\u20131274. Problemos 2011 80 \n",
      " (http://etalpykla.lituanistikadb.lt/fedora/get/LT-LDB-0001:J.04~2011~1367176674498/DS.002.0.01.ARTIC)"
     ]
    },
    {
     "cell_type": "markdown",
     "metadata": {},
     "source": [
      "Juzefovi\u010dius, Romualdas. Lietuvos mokslini\u0173 draugij\u0173 klasifikacija ir j\u0173 mokslo \u017eini\u0173 sklaidos formos 1918-1940 m. \u017dinija Lietuvoje: neformali mokslo \u017eini\u0173 sklaida XX am\u017eiuje. Kauno technologijos universitetas, 2000, p. 39-43, ISBN 9986-13-801-9.\n",
      "\n",
      "http://istorija.vdu.lt/lnik/juzefovicius.htm"
     ]
    }
   ],
   "metadata": {}
  }
 ]
}