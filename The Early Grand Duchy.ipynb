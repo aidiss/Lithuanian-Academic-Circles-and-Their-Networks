{
 "metadata": {
  "name": "",
  "signature": "sha256:6d49bb4d8bbd537bc20116b26b0ddc0a20046d618cd57c4c9bb7c2d848719ca7"
 },
 "nbformat": 3,
 "nbformat_minor": 0,
 "worksheets": [
  {
   "cells": [
    {
     "cell_type": "markdown",
     "metadata": {},
     "source": [
      "(http://www.btz.lt/lt/baznycios-istorijos-labirintai/1/6765)"
     ]
    },
    {
     "cell_type": "markdown",
     "metadata": {},
     "source": [
      "Vilniaus universitetas 1579 2004(http://www.vu.lt/site_files/InfS/Leidiniai/Vilniaus_universitetas_1579_2004.pdf)"
     ]
    }
   ],
   "metadata": {}
  }
 ]
}