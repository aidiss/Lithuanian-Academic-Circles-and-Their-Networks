{
 "metadata": {
  "name": "",
  "signature": "sha256:f530d5c55331b5b234f0ed3d64a29f291d1ce35ed9eb2e589b97ae5a44171cb3"
 },
 "nbformat": 3,
 "nbformat_minor": 0,
 "worksheets": [
  {
   "cells": [
    {
     "cell_type": "markdown",
     "metadata": {},
     "source": [
      "Tarpukaris"
     ]
    },
    {
     "cell_type": "markdown",
     "metadata": {},
     "source": [
      "(http://teise.vdu.lt/index.php?option=com_content&view=article&id=131:teisi-fakultetas-tarpukario-lietuvoje-keletas-domesni-fakt&catid=40:m-naujienos&Itemid=70)"
     ]
    }
   ],
   "metadata": {}
  }
 ]
}