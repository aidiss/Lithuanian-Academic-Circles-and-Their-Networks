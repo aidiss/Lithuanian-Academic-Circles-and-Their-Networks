{
 "metadata": {
  "name": "",
  "signature": "sha256:e060b381a4a840fbb20926bde12147d0575ba1d1974b3cd8c97377a5bcf7a228"
 },
 "nbformat": 3,
 "nbformat_minor": 0,
 "worksheets": [
  {
   "cells": [
    {
     "cell_type": "heading",
     "level": 1,
     "metadata": {},
     "source": [
      "Disciplinarity of Lithuanian Academic Research"
     ]
    },
    {
     "cell_type": "markdown",
     "metadata": {},
     "source": [
      "[Introduction](Introduction)\n",
      "[Literature Review](Literature%20Review.ipynb)\n",
      "\n",
      "1. Theory    \n",
      "    1.1. [Classification](Classification.ipynb)    \n",
      "2. Data    \n",
      "    2.1. [PhD Defenses During Interwars Period](PhD%20Defenses%20During%20Interwars%20Period.ipynb)    \n",
      "    2.1. [PhD Defenses 1950-2009](PhD%20defenses%201950-2008.ipynb)    \n",
      "    2.2. [PhD Defenses 2006-2014](PhD%20defenses%202006-2014.ipynb)    \n",
      "    2.3. [Complete Lithuanian PhD Defenses](Complete%20Lithuanian%20PhD%20Defenses.ipynb)\n",
      "3. Extra    \n",
      "    3.1 [Learned Societies](Learned%20societies.ipynb)  \n",
      "    3.1 [Academic Databases.ipynb](Academic%20Databases.ipynb)    \n",
      "    3.2 [Vizualization](Vizualization.ipynb)    \n",
      "    "
     ]
    }
   ],
   "metadata": {}
  }
 ]
}