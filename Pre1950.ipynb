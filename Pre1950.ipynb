{
 "metadata": {
  "name": "",
  "signature": "sha256:2c03bed04a70dce5c2da2d7941b8fc84885cfff40fe31dc94a9a4647941ca4ed"
 },
 "nbformat": 3,
 "nbformat_minor": 0,
 "worksheets": [
  {
   "cells": [
    {
     "cell_type": "markdown",
     "metadata": {},
     "source": [
      "(http://www.btz.lt/lt/baznycios-istorijos-labirintai/1/6765)"
     ]
    },
    {
     "cell_type": "markdown",
     "metadata": {},
     "source": [
      "Vilniaus universitetas 1579 2004(http://www.vu.lt/site_files/InfS/Leidiniai/Vilniaus_universitetas_1579_2004.pdf)"
     ]
    },
    {
     "cell_type": "markdown",
     "metadata": {},
     "source": [
      "(http://teise.vdu.lt/index.php?option=com_content&view=article&id=131:teisi-fakultetas-tarpukario-lietuvoje-keletas-domesni-fakt&catid=40:m-naujienos&Itemid=70)"
     ]
    }
   ],
   "metadata": {}
  }
 ]
}